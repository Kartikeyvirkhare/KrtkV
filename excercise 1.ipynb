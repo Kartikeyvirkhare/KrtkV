{
 "cells": [
  {
   "cell_type": "markdown",
   "id": "fb78bd4c",
   "metadata": {},
   "source": [
    "# #What is 7 to the power of 4?*"
   ]
  },
  {
   "cell_type": "code",
   "execution_count": 1,
   "id": "6104623a",
   "metadata": {},
   "outputs": [
    {
     "data": {
      "text/plain": [
       "2401"
      ]
     },
     "execution_count": 1,
     "metadata": {},
     "output_type": "execute_result"
    }
   ],
   "source": [
    "7**4"
   ]
  },
  {
   "cell_type": "markdown",
   "id": "751e5fcb",
   "metadata": {},
   "source": [
    "## Split this string:**\n",
    "\n",
    "## s = \"Hi there Yogesh!\"\n",
    "## *into a list. *"
   ]
  },
  {
   "cell_type": "code",
   "execution_count": 2,
   "id": "cf306df7",
   "metadata": {},
   "outputs": [],
   "source": [
    "s = \"Hi there Yogesh!\""
   ]
  },
  {
   "cell_type": "code",
   "execution_count": 3,
   "id": "8785a99a",
   "metadata": {},
   "outputs": [
    {
     "data": {
      "text/plain": [
       "'Hi there Yogesh!'"
      ]
     },
     "execution_count": 3,
     "metadata": {},
     "output_type": "execute_result"
    }
   ],
   "source": [
    "s"
   ]
  },
  {
   "cell_type": "code",
   "execution_count": 4,
   "id": "be53857f",
   "metadata": {},
   "outputs": [
    {
     "data": {
      "text/plain": [
       "str"
      ]
     },
     "execution_count": 4,
     "metadata": {},
     "output_type": "execute_result"
    }
   ],
   "source": [
    "type(s)"
   ]
  },
  {
   "cell_type": "code",
   "execution_count": 6,
   "id": "aad1e0a1",
   "metadata": {},
   "outputs": [
    {
     "data": {
      "text/plain": [
       "['Hi', 'there', 'Yogesh!']"
      ]
     },
     "execution_count": 6,
     "metadata": {},
     "output_type": "execute_result"
    }
   ],
   "source": [
    "s.split()"
   ]
  },
  {
   "cell_type": "markdown",
   "id": "6dbee4c1",
   "metadata": {},
   "source": []
  },
  {
   "cell_type": "code",
   "execution_count": 7,
   "id": "18a3ced4",
   "metadata": {},
   "outputs": [],
   "source": [
    "planet = \"Earth\"\n",
    "diameter = 12742"
   ]
  },
  {
   "cell_type": "code",
   "execution_count": 8,
   "id": "22eea05a",
   "metadata": {},
   "outputs": [
    {
     "data": {
      "text/plain": [
       "'Earth'"
      ]
     },
     "execution_count": 8,
     "metadata": {},
     "output_type": "execute_result"
    }
   ],
   "source": [
    "planet"
   ]
  },
  {
   "cell_type": "code",
   "execution_count": 10,
   "id": "6937c476",
   "metadata": {},
   "outputs": [
    {
     "data": {
      "text/plain": [
       "12742"
      ]
     },
     "execution_count": 10,
     "metadata": {},
     "output_type": "execute_result"
    }
   ],
   "source": [
    "diameter"
   ]
  },
  {
   "cell_type": "code",
   "execution_count": 11,
   "id": "ab4d771e",
   "metadata": {},
   "outputs": [
    {
     "data": {
      "text/plain": [
       "'The diameter of Earth is 12742 kilometers'"
      ]
     },
     "execution_count": 11,
     "metadata": {},
     "output_type": "execute_result"
    }
   ],
   "source": [
    "\"The diameter of {} is {} kilometers\".format(planet,diameter)"
   ]
  },
  {
   "cell_type": "code",
   "execution_count": 12,
   "id": "242e8dfb",
   "metadata": {},
   "outputs": [],
   "source": [
    "lst = [1,2,[3,4],[5,[100,200,['hello']],23,11],1,7]"
   ]
  },
  {
   "cell_type": "code",
   "execution_count": 14,
   "id": "6d675550",
   "metadata": {},
   "outputs": [
    {
     "data": {
      "text/plain": [
       "'hello'"
      ]
     },
     "execution_count": 14,
     "metadata": {},
     "output_type": "execute_result"
    }
   ],
   "source": [
    "lst[3][1][2][0]"
   ]
  },
  {
   "cell_type": "code",
   "execution_count": 15,
   "id": "4ff57b8b",
   "metadata": {},
   "outputs": [],
   "source": [
    "d = {'k1':[1,2,3,{'tricky':['oh','man','inception',\n",
    "                            {'target':[1,2,3,'hello']}]}]}"
   ]
  },
  {
   "cell_type": "code",
   "execution_count": 16,
   "id": "5d0adac7",
   "metadata": {},
   "outputs": [
    {
     "data": {
      "text/plain": [
       "{'k1': [1,\n",
       "  2,\n",
       "  3,\n",
       "  {'tricky': ['oh', 'man', 'inception', {'target': [1, 2, 3, 'hello']}]}]}"
      ]
     },
     "execution_count": 16,
     "metadata": {},
     "output_type": "execute_result"
    }
   ],
   "source": [
    "d"
   ]
  },
  {
   "cell_type": "code",
   "execution_count": 17,
   "id": "65b88105",
   "metadata": {},
   "outputs": [
    {
     "data": {
      "text/plain": [
       "'hello'"
      ]
     },
     "execution_count": 17,
     "metadata": {},
     "output_type": "execute_result"
    }
   ],
   "source": [
    "d['k1'][3]['tricky'][3]['target'][3]"
   ]
  },
  {
   "cell_type": "code",
   "execution_count": 18,
   "id": "caa9b114",
   "metadata": {},
   "outputs": [
    {
     "data": {
      "text/plain": [
       "[1,\n",
       " 2,\n",
       " 3,\n",
       " {'tricky': ['oh', 'man', 'inception', {'target': [1, 2, 3, 'hello']}]}]"
      ]
     },
     "execution_count": 18,
     "metadata": {},
     "output_type": "execute_result"
    }
   ],
   "source": [
    "d['k1']"
   ]
  },
  {
   "cell_type": "code",
   "execution_count": 19,
   "id": "b64f5a47",
   "metadata": {},
   "outputs": [
    {
     "data": {
      "text/plain": [
       "{'tricky': ['oh', 'man', 'inception', {'target': [1, 2, 3, 'hello']}]}"
      ]
     },
     "execution_count": 19,
     "metadata": {},
     "output_type": "execute_result"
    }
   ],
   "source": [
    "d['k1'][3]"
   ]
  },
  {
   "cell_type": "code",
   "execution_count": 20,
   "id": "c9bcc971",
   "metadata": {},
   "outputs": [
    {
     "data": {
      "text/plain": [
       "['oh', 'man', 'inception', {'target': [1, 2, 3, 'hello']}]"
      ]
     },
     "execution_count": 20,
     "metadata": {},
     "output_type": "execute_result"
    }
   ],
   "source": [
    "d['k1'][3]['tricky']"
   ]
  },
  {
   "cell_type": "code",
   "execution_count": 21,
   "id": "d1244957",
   "metadata": {},
   "outputs": [
    {
     "data": {
      "text/plain": [
       "{'target': [1, 2, 3, 'hello']}"
      ]
     },
     "execution_count": 21,
     "metadata": {},
     "output_type": "execute_result"
    }
   ],
   "source": [
    "d['k1'][3]['tricky'][3]"
   ]
  },
  {
   "cell_type": "code",
   "execution_count": 22,
   "id": "1631c2cb",
   "metadata": {},
   "outputs": [
    {
     "data": {
      "text/plain": [
       "'hello'"
      ]
     },
     "execution_count": 22,
     "metadata": {},
     "output_type": "execute_result"
    }
   ],
   "source": [
    "d['k1'][3]['tricky'][3]['target'][3]"
   ]
  },
  {
   "cell_type": "markdown",
   "id": "2efcce78",
   "metadata": {},
   "source": [
    "# What is the main difference between a tuple and a list? **"
   ]
  },
  {
   "cell_type": "code",
   "execution_count": 24,
   "id": "bd49384c",
   "metadata": {},
   "outputs": [],
   "source": [
    "#Tuple is immutable"
   ]
  },
  {
   "cell_type": "markdown",
   "id": "ac4f16f6",
   "metadata": {},
   "source": [
    "# Create a function that grabs the email website domain from a string in the form: "
   ]
  },
  {
   "cell_type": "code",
   "execution_count": 25,
   "id": "13ea367b",
   "metadata": {},
   "outputs": [
    {
     "data": {
      "text/plain": [
       "'domain.com'"
      ]
     },
     "execution_count": 25,
     "metadata": {},
     "output_type": "execute_result"
    }
   ],
   "source": [
    "def domain(email):\n",
    "    new=mail.split(\"@\")\n",
    "    return new[-1]\n",
    "mail=\"user@domain.com\"\n",
    "domain(mail)"
   ]
  },
  {
   "cell_type": "code",
   "execution_count": 26,
   "id": "6729d80d",
   "metadata": {},
   "outputs": [],
   "source": [
    "def funt():\n",
    "     d=input(\"enter string\")\n",
    "     print(d.split('@')[-1])"
   ]
  },
  {
   "cell_type": "code",
   "execution_count": 27,
   "id": "17e3a65c",
   "metadata": {},
   "outputs": [
    {
     "ename": "NameError",
     "evalue": "name 'fun' is not defined",
     "output_type": "error",
     "traceback": [
      "\u001b[0;31m---------------------------------------------------------------------------\u001b[0m",
      "\u001b[0;31mNameError\u001b[0m                                 Traceback (most recent call last)",
      "Input \u001b[0;32mIn [27]\u001b[0m, in \u001b[0;36m<cell line: 1>\u001b[0;34m()\u001b[0m\n\u001b[0;32m----> 1\u001b[0m \u001b[43mfun\u001b[49m()\n",
      "\u001b[0;31mNameError\u001b[0m: name 'fun' is not defined"
     ]
    }
   ],
   "source": [
    "fun()"
   ]
  },
  {
   "cell_type": "code",
   "execution_count": 30,
   "id": "966f54af",
   "metadata": {},
   "outputs": [],
   "source": [
    "def get_domain():\n",
    "    s=\"krtkvirkhare8@gmail.com\"\n",
    "    return s.split('@')[-1]"
   ]
  },
  {
   "cell_type": "code",
   "execution_count": 31,
   "id": "d01e739c",
   "metadata": {},
   "outputs": [
    {
     "data": {
      "text/plain": [
       "'gmail.com'"
      ]
     },
     "execution_count": 31,
     "metadata": {},
     "output_type": "execute_result"
    }
   ],
   "source": [
    "get_domain()"
   ]
  },
  {
   "cell_type": "markdown",
   "id": "35898167",
   "metadata": {},
   "source": [
    "# Create a basic function that returns True if the word 'dog' is contained in the input string. Don't worry about edge cases like a punctuation being attached to the word dog, but do account for capitalization. "
   ]
  },
  {
   "cell_type": "code",
   "execution_count": 33,
   "id": "04a90599",
   "metadata": {},
   "outputs": [
    {
     "data": {
      "text/plain": [
       "True"
      ]
     },
     "execution_count": 33,
     "metadata": {},
     "output_type": "execute_result"
    }
   ],
   "source": [
    "def findDog(w):\n",
    "    return 'dog' in  w.lower().split()   \n",
    "findDog('Is there dog or DOG a here?')"
   ]
  },
  {
   "cell_type": "code",
   "execution_count": 34,
   "id": "2a8250d6",
   "metadata": {},
   "outputs": [],
   "source": [
    "def finddog():\n",
    "    string=input(\"enter the string\")\n",
    "    if \"dog\" in string:\n",
    "        print(\"true\")\n",
    "    else:\n",
    "        print(\"false\")"
   ]
  },
  {
   "cell_type": "code",
   "execution_count": 36,
   "id": "051d17ec",
   "metadata": {},
   "outputs": [
    {
     "data": {
      "text/plain": [
       "True"
      ]
     },
     "execution_count": 36,
     "metadata": {},
     "output_type": "execute_result"
    }
   ],
   "source": [
    "findDog('dog')"
   ]
  },
  {
   "cell_type": "markdown",
   "id": "c340118f",
   "metadata": {},
   "source": [
    "# Create a function that counts the number of times the word \"dog\" occurs in a string. Again ignore edge cases"
   ]
  },
  {
   "cell_type": "code",
   "execution_count": 37,
   "id": "54e90ba4",
   "metadata": {},
   "outputs": [
    {
     "ename": "NameError",
     "evalue": "name 'countDog' is not defined",
     "output_type": "error",
     "traceback": [
      "\u001b[0;31m---------------------------------------------------------------------------\u001b[0m",
      "\u001b[0;31mNameError\u001b[0m                                 Traceback (most recent call last)",
      "Input \u001b[0;32mIn [37]\u001b[0m, in \u001b[0;36m<cell line: 1>\u001b[0;34m()\u001b[0m\n\u001b[0;32m----> 1\u001b[0m \u001b[43mcountDog\u001b[49m(\u001b[38;5;124m'\u001b[39m\u001b[38;5;124mThis dog runs faster than the other dog dude!\u001b[39m\u001b[38;5;124m'\u001b[39m)\n",
      "\u001b[0;31mNameError\u001b[0m: name 'countDog' is not defined"
     ]
    }
   ],
   "source": [
    "countDog('This dog runs faster than the other dog dude!')"
   ]
  },
  {
   "cell_type": "code",
   "execution_count": 38,
   "id": "f88e34dd",
   "metadata": {},
   "outputs": [
    {
     "name": "stdout",
     "output_type": "stream",
     "text": [
      "sog dog hat dog:- The no. of dog in string is: 2\n"
     ]
    }
   ],
   "source": [
    "def count_ch_dog(word):\n",
    "    c=0\n",
    "    for i in word.lower().split(): \n",
    "        print(i,end=' ')\n",
    "        if 'dog' in  i:\n",
    "            c=c+1\n",
    "    print(\"The no. of dog in string is:\",c)\n",
    "count_ch_dog(\" sog dog hat dog:-\")"
   ]
  },
  {
   "cell_type": "code",
   "execution_count": 42,
   "id": "53857645",
   "metadata": {},
   "outputs": [],
   "source": [
    "def count_dog1(s):\n",
    "    c=0\n",
    "    for v in s.split():\n",
    "        if v==\"dog\":\n",
    "            c=c+1\n",
    "            print(c)"
   ]
  },
  {
   "cell_type": "code",
   "execution_count": 49,
   "id": "15bdbc5a",
   "metadata": {},
   "outputs": [],
   "source": [
    "seq = ['soup','dog','salad','cat','great']"
   ]
  },
  {
   "cell_type": "code",
   "execution_count": 50,
   "id": "62d2670f",
   "metadata": {},
   "outputs": [
    {
     "ename": "SyntaxError",
     "evalue": "invalid character '’' (U+2019) (2705957087.py, line 1)",
     "output_type": "error",
     "traceback": [
      "\u001b[0;36m  Input \u001b[0;32mIn [50]\u001b[0;36m\u001b[0m\n\u001b[0;31m    list(filter(lambda v:v[0]!=’s’,seq))\u001b[0m\n\u001b[0m                               ^\u001b[0m\n\u001b[0;31mSyntaxError\u001b[0m\u001b[0;31m:\u001b[0m invalid character '’' (U+2019)\n"
     ]
    }
   ],
   "source": []
  },
  {
   "cell_type": "code",
   "execution_count": 51,
   "id": "e601dde7",
   "metadata": {},
   "outputs": [],
   "source": [
    "seq = ['soup','dog','salad','cat','great']"
   ]
  },
  {
   "cell_type": "code",
   "execution_count": 52,
   "id": "17d967c8",
   "metadata": {},
   "outputs": [
    {
     "data": {
      "text/plain": [
       "['soup', 'dog', 'salad', 'cat', 'great']"
      ]
     },
     "execution_count": 52,
     "metadata": {},
     "output_type": "execute_result"
    }
   ],
   "source": [
    "seq"
   ]
  },
  {
   "cell_type": "code",
   "execution_count": 54,
   "id": "5af840aa",
   "metadata": {},
   "outputs": [
    {
     "data": {
      "text/plain": [
       "['dog', 'cat', 'great']"
      ]
     },
     "execution_count": 54,
     "metadata": {},
     "output_type": "execute_result"
    }
   ],
   "source": [
    "list(filter(lambda v:v[0]!='s',seq))"
   ]
  },
  {
   "cell_type": "code",
   "execution_count": 55,
   "id": "5b94d2f3",
   "metadata": {},
   "outputs": [
    {
     "data": {
      "text/plain": [
       "['soup', 'salad']"
      ]
     },
     "execution_count": 55,
     "metadata": {},
     "output_type": "execute_result"
    }
   ],
   "source": [
    "list(filter(lambda v:v[0]=='s',seq))"
   ]
  },
  {
   "cell_type": "markdown",
   "id": "d4610ce6",
   "metadata": {},
   "source": [
    "# Final Problem"
   ]
  },
  {
   "cell_type": "code",
   "execution_count": 1,
   "id": "e701ee32",
   "metadata": {},
   "outputs": [
    {
     "name": "stdout",
     "output_type": "stream",
     "text": [
      "enter the input:56\n"
     ]
    }
   ],
   "source": [
    "s=input(\"enter the input:\")"
   ]
  },
  {
   "cell_type": "code",
   "execution_count": 2,
   "id": "38ed144a",
   "metadata": {},
   "outputs": [
    {
     "data": {
      "text/plain": [
       "str"
      ]
     },
     "execution_count": 2,
     "metadata": {},
     "output_type": "execute_result"
    }
   ],
   "source": [
    "type(s)"
   ]
  },
  {
   "cell_type": "code",
   "execution_count": 4,
   "id": "4ad02821",
   "metadata": {},
   "outputs": [
    {
     "name": "stdout",
     "output_type": "stream",
     "text": [
      "Enter the input:ab67-cd69\n",
      "6769\n"
     ]
    }
   ],
   "source": [
    "s=input(\"Enter the input:\")\n",
    "num=\"\"\n",
    "numbers=[0,1,2,3,4,5,6,7,8,9]\n",
    "if s[0]==\"-\":\n",
    "    num=num+s[0]\n",
    "for c in s:\n",
    "    if c in str(numbers):\n",
    "        num=num+c\n",
    "print(num)\n",
    "    \n",
    "    "
   ]
  },
  {
   "cell_type": "markdown",
   "id": "44b21aa6",
   "metadata": {},
   "source": [
    "#Q2"
   ]
  },
  {
   "cell_type": "code",
   "execution_count": 24,
   "id": "56cdd70f",
   "metadata": {},
   "outputs": [
    {
     "name": "stdout",
     "output_type": "stream",
     "text": [
      "Enter the Number:45\n",
      "Palindrome is: 99\n"
     ]
    }
   ],
   "source": [
    "n1=input(\"Enter the Number:\")\n",
    "n2=int(n1[::-1])\n",
    "n3=str(int(n1)+n2)\n",
    "while n3!=n3[::-1]:\n",
    "    n3=n3+n3[::-1]\n",
    "    print(\"Number is:\",n3)\n",
    "    print(\"Reverse is:\",n3[::-1])\n",
    "print(\"Palindrome is:\",n3)"
   ]
  },
  {
   "cell_type": "markdown",
   "id": "0c1a1815",
   "metadata": {},
   "source": [
    "n1"
   ]
  },
  {
   "cell_type": "code",
   "execution_count": 29,
   "id": "52b9ae96",
   "metadata": {},
   "outputs": [
    {
     "ename": "SyntaxError",
     "evalue": "invalid syntax (2674086489.py, line 8)",
     "output_type": "error",
     "traceback": [
      "\u001b[0;36m  Input \u001b[0;32mIn [29]\u001b[0;36m\u001b[0m\n\u001b[0;31m    print(\"Number is:\",n3)\u001b[0m\n\u001b[0m    ^\u001b[0m\n\u001b[0;31mSyntaxError\u001b[0m\u001b[0;31m:\u001b[0m invalid syntax\n"
     ]
    }
   ],
   "source": [
    "n1=input(\"Enter the Number:\")\n",
    "n2=int(n1[::-1])\n",
    "n3=str(int(n1)+n2)\n",
    "while n3!=n3[::-1]:\n",
    "    print(\"Number is:\",n3)\n",
    "    print(\"Reverse is:\",n3[::-1])\n",
    "    n3=str(int(n3)+(int(n3[::-1]))\n",
    "    print(\"Number is:\",n3)\n",
    "    print(\"Reverse is:\",n3[::-1])\n",
    "print(\"Palindrome is:\",n3)"
   ]
  },
  {
   "cell_type": "code",
   "execution_count": 3,
   "id": "f4cb8ed0",
   "metadata": {},
   "outputs": [],
   "source": [
    "\n",
    "\n",
    "        "
   ]
  },
  {
   "cell_type": "code",
   "execution_count": 4,
   "id": "7774d811",
   "metadata": {},
   "outputs": [
    {
     "data": {
      "text/plain": [
       "'/Users/kartikeyvirkhare'"
      ]
     },
     "execution_count": 4,
     "metadata": {},
     "output_type": "execute_result"
    }
   ],
   "source": [
    "pwd"
   ]
  },
  {
   "cell_type": "code",
   "execution_count": null,
   "id": "6f78630c",
   "metadata": {},
   "outputs": [],
   "source": []
  }
 ],
 "metadata": {
  "kernelspec": {
   "display_name": "Python 3 (ipykernel)",
   "language": "python",
   "name": "python3"
  },
  "language_info": {
   "codemirror_mode": {
    "name": "ipython",
    "version": 3
   },
   "file_extension": ".py",
   "mimetype": "text/x-python",
   "name": "python",
   "nbconvert_exporter": "python",
   "pygments_lexer": "ipython3",
   "version": "3.9.12"
  }
 },
 "nbformat": 4,
 "nbformat_minor": 5
}
